{
  "nbformat": 4,
  "nbformat_minor": 0,
  "metadata": {
    "colab": {
      "provenance": [],
      "authorship_tag": "ABX9TyNbsT4nrH1LPEmYR++8Fsol",
      "include_colab_link": true
    },
    "kernelspec": {
      "name": "python3",
      "display_name": "Python 3"
    },
    "language_info": {
      "name": "python"
    }
  },
  "cells": [
    {
      "cell_type": "markdown",
      "metadata": {
        "id": "view-in-github",
        "colab_type": "text"
      },
      "source": [
        "<a href=\"https://colab.research.google.com/github/SilviaVock/IEEE-MMM-2023-Hands-on-tutorial/blob/main/Example_XX__MNIST_extended.ipynb\" target=\"_parent\"><img src=\"https://colab.research.google.com/assets/colab-badge.svg\" alt=\"Open In Colab\"/></a>"
      ]
    },
    {
      "cell_type": "markdown",
      "source": [],
      "metadata": {
        "id": "9srVP5H-_CHE"
      }
    },
    {
      "cell_type": "code",
      "source": [
        "import numpy as np\n",
        "import matplotlib.pyplot as plt\n",
        "from sklearn import datasets\n",
        "from sklearn.neural_network import MLPClassifier\n",
        "from sklearn.metrics import confusion_matrix\n",
        "from PIL import Image\n",
        "import matplotlib.image as mpimg\n",
        "\n",
        "# Step 1: Load and Prepare the Dataset\n",
        "# Load the MNIST dataset (a smaller version) from scikit-learn\n",
        "digits = datasets.load_digits()\n",
        "\n",
        "# Prepare the data and labels\n",
        "n_samples = len(digits.images)\n",
        "X = digits.images.reshape((n_samples, -1))\n",
        "y = digits.target\n",
        "\n",
        "# Normalize the data to a range [0, 1]\n",
        "X = X / 255.0\n",
        "\n",
        "# Split the data into training and testing sets\n",
        "n_split = n_samples * 4 // 5\n",
        "X_train, X_test = X[:n_split], X[n_split:]\n",
        "y_train, y_test = y[:n_split], y[n_split:]\n",
        "\n",
        "# Step 2: Train a Deep Neural Network (DNN) Classifier\n",
        "# Create an MLPClassifier (DNN) with one hidden layer\n",
        "clf = MLPClassifier(hidden_layer_sizes=(200,), max_iter=10000, random_state=42)\n",
        "\n",
        "# Train the DNN classifier on the training data\n",
        "model=clf.fit(X_train, y_train)\n",
        "\n",
        "# Step 3: Evaluate the Model\n",
        "accuracy = clf.score(X_test, y_test)\n",
        "print(f\"Test accuracy: {accuracy*100:.2f}%\")\n",
        "\n",
        "#Confusion Matrix\n",
        "prediction =  model.predict(X_test)\n",
        "matrix = confusion_matrix(y_true=y_test, y_pred=prediction)\n",
        "print(matrix)\n",
        "\n",
        "# Step 4: Create your own sample image\n",
        "image_data = np.array([\n",
        "    [0, 0, 0, 255, 0, 0, 0, 0],\n",
        "    [0, 0, 255, 100, 255, 100, 0, 0],\n",
        "    [100, 240, 100, 255, 0, 0, 0, 0],\n",
        "    [0, 0, 0, 250, 0, 0, 0, 0],\n",
        "    [0, 0, 0, 255, 0, 0, 0, 0],\n",
        "    [0, 0, 0, 255, 0, 0, 0, 0],\n",
        "    [0, 0, 0, 255, 0, 0, 0, 0],\n",
        "    [0, 0, 0, 100, 0, 0, 0, 0]\n",
        "], dtype=np.uint8)\n",
        "\n",
        "# Convert the NumPy array to a PIL Image object\n",
        "image = Image.fromarray(image_data)\n",
        "\n",
        "# Save the image as a PNG file (optional)\n",
        "image.save(\"grayscale_image.png\")\n",
        "\n",
        "# Display the image using matplotlib (optional)\n",
        "img = mpimg.imread(\"grayscale_image.png\")\n",
        "plt.imshow(img, cmap='gray')\n",
        "plt.axis('off')  # Hide axis labels and ticks\n",
        "plt.title(\"Custom Image\")\n",
        "plt.show()\n",
        "\n",
        "# Step 5: Make Predictions on Your Sample Image\n",
        "# Reshape your image data to match the input format (8x8) used by the model\n",
        "sample_image = image_data.reshape(1, -1)\n",
        "\n",
        "# Make a prediction using the trained DNN classifier\n",
        "predicted_class = clf.predict(sample_image)[0]\n",
        "print(f\"Predicted class for custom image: {predicted_class}\")\n",
        "\n",
        "# Step 6: Display Example Images and Predicted Classes\n",
        "# Display the first 5 example images from the test set along with their predicted classes\n",
        "n_display = 5\n",
        "for i in range(n_display):\n",
        "    plt.subplot(1, n_display, i + 1)\n",
        "    plt.imshow(X_test[i].reshape(8, 8), cmap='gray')\n",
        "    plt.title(f\"Predicted: {clf.predict(X_test[i:i+1])[0]}\\nActual: {y_test[i]}\")\n",
        "    plt.axis('off')\n",
        "\n",
        "plt.show()\n"
      ],
      "metadata": {
        "colab": {
          "base_uri": "https://localhost:8080/",
          "height": 790
        },
        "id": "_z4cNsI6Fmq5",
        "outputId": "42c5ecd9-7d55-4ff1-b26c-a9b164bc2f4c"
      },
      "execution_count": null,
      "outputs": [
        {
          "output_type": "stream",
          "name": "stdout",
          "text": [
            "Test accuracy: 90.83%\n",
            "[[33  0  0  0  1  0  1  0  0  0]\n",
            " [ 0 29  0  1  0  0  0  0  0  6]\n",
            " [ 0  0 35  0  0  0  0  0  0  0]\n",
            " [ 0  0  1 26  0  2  0  2  6  0]\n",
            " [ 0  0  0  0 34  0  0  0  0  3]\n",
            " [ 0  0  0  0  0 37  0  0  0  0]\n",
            " [ 0  1  0  0  0  0 36  0  0  0]\n",
            " [ 0  0  0  0  0  0  0 35  1  0]\n",
            " [ 0  2  0  1  1  1  0  0 28  0]\n",
            " [ 0  0  0  0  0  1  0  1  1 34]]\n"
          ]
        },
        {
          "output_type": "display_data",
          "data": {
            "text/plain": [
              "<Figure size 640x480 with 1 Axes>"
            ],
            "image/png": "[encoded data removed]"
          },
          "metadata": {}
        },
        {
          "output_type": "stream",
          "name": "stdout",
          "text": [
            "Predicted class for custom image: 1\n"
          ]
        },
        {
          "output_type": "display_data",
          "data": {
            "text/plain": [
              "<Figure size 640x480 with 5 Axes>"
            ],
            "image/png": "[encoded data removed]"
          },
          "metadata": {}
        }
      ]
    },
    {
      "cell_type": "code",
      "source": [
        "import numpy as np\n",
        "import matplotlib.pyplot as plt\n",
        "from sklearn import datasets\n",
        "from sklearn.neural_network import MLPClassifier\n",
        "from PIL import Image, ImageFilter\n",
        "import matplotlib.image as mpimg\n",
        "import cv2  # Import OpenCV\n",
        "\n",
        "# Define a function to apply camera-typical faults or corruptions\n",
        "def apply_corruption(image):\n",
        "    # Convert PIL Image to NumPy array\n",
        "    image_array = np.array(image)\n",
        "\n",
        "    # Add Gaussian noise\n",
        "    noisy_image = image_array + np.random.normal(0, 0.8, image_array.shape)\n",
        "\n",
        "    # Apply motion blur (custom kernel)\n",
        "    kernel = np.array([[1, 2, 9],\n",
        "                       [2, 4, 2],\n",
        "                       [1, 9, 9]]) / 16.0\n",
        "    blurred_image = cv2.filter2D(image_array, -1, kernel)\n",
        "\n",
        "  # Convert blurred_image back to PIL Image\n",
        "    blurred_image_pil = Image.fromarray(np.uint8(blurred_image))\n",
        "\n",
        "    return noisy_image, blurred_image_pil\n",
        "\n",
        "# Step 1: Load and Prepare the Dataset\n",
        "# Load the MNIST dataset (a smaller version) from scikit-learn\n",
        "digits = datasets.load_digits()\n",
        "\n",
        "# Prepare the data and labels\n",
        "n_samples = len(digits.images)\n",
        "X = digits.images.reshape((n_samples, -1))\n",
        "y = digits.target\n",
        "\n",
        "# Normalize the data to a range [0, 1]\n",
        "X = X / 255.0\n",
        "\n",
        "# Split the data into training and testing sets\n",
        "n_split = n_samples * 4 // 5\n",
        "X_train, X_test = X[:n_split], X[n_split:]\n",
        "y_train, y_test = y[:n_split], y[n_split:]\n",
        "\n",
        "# Step 2: Train a Deep Neural Network (DNN) Classifier\n",
        "# Create an MLPClassifier (DNN) with one hidden layer\n",
        "clf = MLPClassifier(hidden_layer_sizes=(200,), max_iter=10000, random_state=42)\n",
        "\n",
        "# Train the DNN classifier on the training data\n",
        "clf.fit(X_train, y_train)\n",
        "\n",
        "# Step 3: Evaluate the Model\n",
        "accuracy = clf.score(X_test, y_test)\n",
        "print(f\"Test accuracy: {accuracy*100:.2f}%\")\n",
        "\n",
        "# Step 4: Create your own sample image\n",
        "image_data = np.array([\n",
        "    [0, 0, 0, 255, 0, 0, 0, 0],\n",
        "    [0, 0, 255, 100, 255, 100, 0, 0],\n",
        "    [100, 240, 100, 255, 0, 0, 0, 0],\n",
        "    [0, 0, 0, 250, 0, 0, 0, 0],\n",
        "    [0, 0, 0, 255, 0, 0, 0, 0],\n",
        "    [0, 0, 0, 255, 0, 0, 0, 0],\n",
        "    [0, 0, 0, 255, 0, 0, 0, 0],\n",
        "    [0, 0, 0, 100, 0, 0, 0, 0]\n",
        "], dtype=np.uint8)\n",
        "\n",
        "# Convert the NumPy array to a PIL Image object\n",
        "image = Image.fromarray(image_data)\n",
        "\n",
        "# Save the image as a PNG file (optional)\n",
        "image.save(\"grayscale_image.png\")\n",
        "\n",
        "# Display the image using matplotlib (optional)\n",
        "img = mpimg.imread(\"grayscale_image.png\")\n",
        "plt.imshow(img, cmap='gray')\n",
        "plt.axis('off')  # Hide axis labels and ticks\n",
        "plt.title(\"Custom Image\")\n",
        "plt.show()\n",
        "\n",
        "# Step 5: Make Predictions on Your Sample Image\n",
        "# Reshape your image data to match the input format (8x8) used by the model\n",
        "sample_image = image_data.reshape(1, -1)\n",
        "\n",
        "# Make a prediction using the trained DNN classifier\n",
        "predicted_class = clf.predict(sample_image)[0]\n",
        "print(f\"Predicted class for custom image: {predicted_class}\")\n",
        "\n",
        "# Step 6: Display Example Images and Predicted Classes\n",
        "# Display the first 5 example images from the test set along with their predicted classes\n",
        "n_display = 10\n",
        "for i in range(n_display):\n",
        "    plt.subplot(1, n_display, i + 1)\n",
        "    plt.imshow(X_test[i].reshape(8, 8), cmap='gray')\n",
        "    plt.title(f\"Predicted: {clf.predict(X_test[i:i+1])[0]}\\nActual: {y_test[i]}\")\n",
        "    plt.axis('off')\n",
        "\n",
        "plt.show()\n",
        "\n",
        "# Apply corruptions to the custom image\n",
        "noisy_image, blurred_image = apply_corruption(image)\n",
        "\n",
        "# Save the corrupted images as PNG files (optional)\n",
        "noisy_image = Image.fromarray(np.uint8(noisy_image))\n",
        "noisy_image.save(\"noisy_image.png\")\n",
        "\n",
        "blurred_image.save(\"blurred_image.png\")\n",
        "\n",
        "# Display the original, noisy, and blurred images using matplotlib (optional)\n",
        "plt.figure(figsize=(12, 4))\n",
        "plt.subplot(1, 3, 1)\n",
        "plt.imshow(img, cmap='gray')\n",
        "plt.axis('off')\n",
        "plt.title(\"Original Image\")\n",
        "\n",
        "# Use LANCZOS resampling filter instead of ANTIALIAS\n",
        "plt.subplot(1, 3, 2)\n",
        "noisy_img = noisy_image.resize((8, 8), Image.LANCZOS)\n",
        "plt.imshow(noisy_img, cmap='gray')\n",
        "plt.axis('off')\n",
        "plt.title(\"Noisy Image\")\n",
        "\n",
        "plt.subplot(1, 3, 3)\n",
        "blurred_img = blurred_image.resize((8, 8), Image.LANCZOS)\n",
        "plt.imshow(blurred_img, cmap='gray')\n",
        "plt.axis('off')\n",
        "plt.title(\"Blurred Image\")\n",
        "\n",
        "plt.show()\n",
        "\n",
        "# Step 5: Make Predictions on Your Sample Images\n",
        "# Reshape the corrupted images to match the input format (8x8) used by the model\n",
        "sample_noisy_image = noisy_image.resize((8, 8), Image.ANTIALIAS).convert('L')\n",
        "sample_blurred_image = blurred_image.resize((8, 8), Image.ANTIALIAS).convert('L')\n",
        "\n",
        "sample_noisy_data = np.array(sample_noisy_image).reshape(1, -1)\n",
        "sample_blurred_data = np.array(sample_blurred_image).reshape(1, -1)\n",
        "\n",
        "# Make predictions using the trained DNN classifier for noisy and blurred images\n",
        "predicted_class_noisy = clf.predict(sample_noisy_data)[0]\n",
        "predicted_class_blurred = clf.predict(sample_blurred_data)[0]\n",
        "\n",
        "print(f\"Predicted class for noisy image: {predicted_class_noisy}\")\n",
        "print(f\"Predicted class for blurred image: {predicted_class_blurred}\")\n"
      ],
      "metadata": {
        "colab": {
          "base_uri": "https://localhost:8080/",
          "height": 1000
        },
        "id": "rsvi4MlyJ_yM",
        "outputId": "032cc5dd-8f2b-4475-c413-ffbc1512a5ef"
      },
      "execution_count": null,
      "outputs": [
        {
          "output_type": "stream",
          "name": "stdout",
          "text": [
            "Test accuracy: 90.83%\n"
          ]
        },
        {
          "output_type": "display_data",
          "data": {
            "text/plain": [
              "<Figure size 640x480 with 1 Axes>"
            ],
            "image/png": "[encoded data removed]"
          },
          "metadata": {}
        },
        {
          "output_type": "stream",
          "name": "stdout",
          "text": [
            "Predicted class for custom image: 1\n"
          ]
        },
        {
          "output_type": "display_data",
          "data": {
            "text/plain": [
              "<Figure size 640x480 with 5 Axes>"
            ],
            "image/png": "[encoded data removed]"
          },
          "metadata": {}
        },
        {
          "output_type": "display_data",
          "data": {
            "text/plain": [
              "<Figure size 1200x400 with 3 Axes>"
            ],
            "image/png": "[encoded data removed]"
          },
          "metadata": {}
        },
        {
          "output_type": "stream",
          "name": "stdout",
          "text": [
            "Predicted class for noisy image: 9\n",
            "Predicted class for blurred image: 5\n"
          ]
        },
        {
          "output_type": "stream",
          "name": "stderr",
          "text": [
            "<ipython-input-10-2389ded46a40>:133: DeprecationWarning: ANTIALIAS is deprecated and will be removed in Pillow 10 (2023-07-01). Use LANCZOS or Resampling.LANCZOS instead.\n",
            "  sample_noisy_image = noisy_image.resize((8, 8), Image.ANTIALIAS).convert('L')\n",
            "<ipython-input-10-2389ded46a40>:134: DeprecationWarning: ANTIALIAS is deprecated and will be removed in Pillow 10 (2023-07-01). Use LANCZOS or Resampling.LANCZOS instead.\n",
            "  sample_blurred_image = blurred_image.resize((8, 8), Image.ANTIALIAS).convert('L')\n"
          ]
        }
      ]
    }
  ]
}